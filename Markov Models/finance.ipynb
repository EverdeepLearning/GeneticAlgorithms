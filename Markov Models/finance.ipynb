{
 "cells": [
  {
   "cell_type": "markdown",
   "metadata": {},
   "source": [
    "**Initial Description**\n",
    "- Retirement age: 65 years old.\n",
    "- Life expectancy: 100 years old.\n",
    "- Annual inflation rate: 4%.\n",
    "- Yearly expenses: $50,000.\n",
    "- Initial savings: $1,000,000.\n",
    "- Investment return rate: 9% with sd 15%.\n",
    "\n",
    "**Questions**\n",
    "1. What is the probability of running out of money before dying?\n",
    "2. What is the average age in which the money runs out if it does?\n",
    "3. What is the average amount of money left if it never went negative?"
   ]
  },
  {
   "cell_type": "code",
   "execution_count": 25,
   "metadata": {},
   "outputs": [],
   "source": [
    "import numpy as np\n",
    "import pandas as pd\n",
    "\n",
    "age = 65\n",
    "death = 100\n",
    "capital = 1000000\n",
    "withdraw = 50000\n",
    "cpi = 1.04\n",
    "interest = 0.09\n",
    "sd = 0.15\n",
    "\n",
    "def generate_mc(capital, cpi, interest, sd, withdraw, years):\n",
    "    mc = [capital]\n",
    "    for i in range(years):\n",
    "        # Perform withdraw with CPI applied\n",
    "        capital -= withdraw * (cpi**i)\n",
    "        mc.append(capital)\n",
    "\n",
    "        # Check if negative\n",
    "        if capital <= 0:\n",
    "            return False, i, mc\n",
    "\n",
    "        # Perform return calculation\n",
    "        capital *= 1 + np.random.normal(interest, sd, 1)[0]\n",
    "        mc.append(capital)\n",
    "        # Check if negative\n",
    "        if capital <= 0:\n",
    "            return False, i, mc\n",
    "    \n",
    "    return True, years, mc"
   ]
  },
  {
   "cell_type": "code",
   "execution_count": 23,
   "metadata": {},
   "outputs": [
    {
     "data": {
      "text/plain": [
       "(True,\n",
       " 35,\n",
       " [1000000,\n",
       "  950000.0,\n",
       "  1270676.3590075672,\n",
       "  1218676.3590075672,\n",
       "  1805097.7704535783,\n",
       "  1751017.7704535783,\n",
       "  1806312.5811425317,\n",
       "  1750069.3811425318,\n",
       "  2298206.0215015644,\n",
       "  2239713.0935015646,\n",
       "  2449405.599679969,\n",
       "  2388572.954559969,\n",
       "  2496869.11222413,\n",
       "  2433603.1612993297,\n",
       "  2756563.9004304116,\n",
       "  2690767.3114686194,\n",
       "  2937094.134232695,\n",
       "  2868665.6817124314,\n",
       "  3054609.8383857803,\n",
       "  2983444.247764706,\n",
       "  3267084.738114733,\n",
       "  3193072.5238688155,\n",
       "  3372195.3190699546,\n",
       "  3295222.6162542007,\n",
       "  3575673.796824658,\n",
       "  3495622.1858962737,\n",
       "  4485613.343541034,\n",
       "  4402359.668175514,\n",
       "  5372465.060888146,\n",
       "  5285881.238508006,\n",
       "  6680122.403064313,\n",
       "  6590075.227788967,\n",
       "  6059410.98348555,\n",
       "  5965761.92119919,\n",
       "  6630427.114026596,\n",
       "  6533032.089248782,\n",
       "  7992049.054256601,\n",
       "  7890758.228487675,\n",
       "  9475500.033811923,\n",
       "  9370157.575012239,\n",
       "  11713670.282411035,\n",
       "  11604114.125259364,\n",
       "  12839090.519209838,\n",
       "  12725152.1157721,\n",
       "  12539436.653038422,\n",
       "  12420940.713463174,\n",
       "  11794329.835091239,\n",
       "  11671094.057932982,\n",
       "  9714835.726201646,\n",
       "  9586670.517957058,\n",
       "  10526575.675351366,\n",
       "  10393283.858776996,\n",
       "  14353062.362869008,\n",
       "  14214438.873631662,\n",
       "  13109724.820288947,\n",
       "  12965556.391482107,\n",
       "  13880667.496089328,\n",
       "  13730732.330130214,\n",
       "  15752683.341557393,\n",
       "  15596750.768959915,\n",
       "  18839353.45792767,\n",
       "  18677183.582426295,\n",
       "  20696164.34905778,\n",
       "  20527507.678536348,\n",
       "  23701930.588075943,\n",
       "  23526527.650733653,\n",
       "  21688156.241925895,\n",
       "  21505737.187089913,\n",
       "  27503748.824642494,\n",
       "  27314033.007613074,\n",
       "  29648812.612156637])"
      ]
     },
     "execution_count": 23,
     "metadata": {},
     "output_type": "execute_result"
    }
   ],
   "source": [
    "generate_mc(capital=capital, cpi=cpi, interest=interest, sd=sd, withdraw=withdraw, years=death-age)"
   ]
  },
  {
   "cell_type": "code",
   "execution_count": 24,
   "metadata": {},
   "outputs": [],
   "source": [
    "# Run simulation 1,000,000 times\n",
    "mcs = [\n",
    "    generate_mc(\n",
    "        capital=capital,\n",
    "        cpi=cpi,\n",
    "        interest=interest,\n",
    "        sd=sd,\n",
    "        withdraw=withdraw,\n",
    "        years=death - age,\n",
    "    ) for i in range(1000000)\n",
    "]"
   ]
  },
  {
   "cell_type": "code",
   "execution_count": 40,
   "metadata": {},
   "outputs": [
    {
     "data": {
      "text/html": [
       "<div>\n",
       "<style scoped>\n",
       "    .dataframe tbody tr th:only-of-type {\n",
       "        vertical-align: middle;\n",
       "    }\n",
       "\n",
       "    .dataframe tbody tr th {\n",
       "        vertical-align: top;\n",
       "    }\n",
       "\n",
       "    .dataframe thead th {\n",
       "        text-align: right;\n",
       "    }\n",
       "</style>\n",
       "<table border=\"1\" class=\"dataframe\">\n",
       "  <thead>\n",
       "    <tr style=\"text-align: right;\">\n",
       "      <th></th>\n",
       "      <th>success</th>\n",
       "      <th>years</th>\n",
       "      <th>capital</th>\n",
       "    </tr>\n",
       "  </thead>\n",
       "  <tbody>\n",
       "    <tr>\n",
       "      <th>0</th>\n",
       "      <td>False</td>\n",
       "      <td>22</td>\n",
       "      <td>-1.175089e+05</td>\n",
       "    </tr>\n",
       "    <tr>\n",
       "      <th>1</th>\n",
       "      <td>False</td>\n",
       "      <td>15</td>\n",
       "      <td>-4.972264e+03</td>\n",
       "    </tr>\n",
       "    <tr>\n",
       "      <th>2</th>\n",
       "      <td>True</td>\n",
       "      <td>35</td>\n",
       "      <td>1.007000e+07</td>\n",
       "    </tr>\n",
       "    <tr>\n",
       "      <th>3</th>\n",
       "      <td>False</td>\n",
       "      <td>28</td>\n",
       "      <td>-9.185867e+04</td>\n",
       "    </tr>\n",
       "    <tr>\n",
       "      <th>4</th>\n",
       "      <td>False</td>\n",
       "      <td>22</td>\n",
       "      <td>-1.099147e+05</td>\n",
       "    </tr>\n",
       "  </tbody>\n",
       "</table>\n",
       "</div>"
      ],
      "text/plain": [
       "   success  years       capital\n",
       "0    False     22 -1.175089e+05\n",
       "1    False     15 -4.972264e+03\n",
       "2     True     35  1.007000e+07\n",
       "3    False     28 -9.185867e+04\n",
       "4    False     22 -1.099147e+05"
      ]
     },
     "execution_count": 40,
     "metadata": {},
     "output_type": "execute_result"
    }
   ],
   "source": [
    "df = pd.DataFrame({\n",
    "    'success': [res[0] for res in mcs],\n",
    "    'years': [res[1] for res in mcs],\n",
    "    'capital': [res[2][-1] for res in mcs],\n",
    "})\n",
    "df.head()"
   ]
  },
  {
   "cell_type": "code",
   "execution_count": 48,
   "metadata": {},
   "outputs": [
    {
     "name": "stdout",
     "output_type": "stream",
     "text": [
      "Chance of the index fund lasting 35 years: 47.97%\n",
      "Average amount of years the fund lasts: 28.64\n",
      "Average capital at the end of a 35 year period if it never went negative: $8,917,885.18\n"
     ]
    }
   ],
   "source": [
    "proba = df.success.value_counts() / len(df) * 100\n",
    "avg_years = df.years.mean()\n",
    "avg_capital = \"${:,.2f}\".format(df[df.years == 35].capital.mean())\n",
    "\n",
    "print(f\"Chance of the index fund lasting 35 years: {proba.iloc[1]:.2f}%\")\n",
    "print(f\"Average amount of years the fund lasts: {avg_years:.2f}\")\n",
    "print(\n",
    "    f\"Average capital at the end of a 35 year period if it never went negative: {avg_capital}\"\n",
    ")"
   ]
  }
 ],
 "metadata": {
  "kernelspec": {
   "display_name": "Python 3",
   "language": "python",
   "name": "python3"
  },
  "language_info": {
   "codemirror_mode": {
    "name": "ipython",
    "version": 3
   },
   "file_extension": ".py",
   "mimetype": "text/x-python",
   "name": "python",
   "nbconvert_exporter": "python",
   "pygments_lexer": "ipython3",
   "version": "3.11.8"
  }
 },
 "nbformat": 4,
 "nbformat_minor": 2
}
